{
 "cells": [
  {
   "cell_type": "code",
   "execution_count": 4,
   "metadata": {},
   "outputs": [],
   "source": [
    "import collections"
   ]
  },
  {
   "cell_type": "code",
   "execution_count": 9,
   "metadata": {},
   "outputs": [],
   "source": [
    "class Contactbook:\n",
    "    def __init__(self):\n",
    "        self.contact = collections.defaultdict(dict) #name:contact\n",
    "\n",
    "    def read(self):\n",
    "        for name, info in self.contact.items():\n",
    "            print(f'name: {name}')\n",
    "            print(f'phone: {info[\"phone\"]}')\n",
    "            print(f'email: {info[\"email\"]}')\n",
    "            print(\"-\" * 50)\n",
    "\n",
    "\n",
    "    def write(self, name, phone, email=None):\n",
    "        if name in self.contact:\n",
    "            print(\"Contact already exists!\")\n",
    "            return\n",
    "        \n",
    "        self.contact[name][\"phone\"] = phone\n",
    "        self.contact[name][\"email\"] = email\n",
    "        \n",
    "\n",
    "    def update(self, name, phone=None, email=None):\n",
    "        if name in self.contact:\n",
    "            if phone:\n",
    "                self.contact[name]['phone'] = phone\n",
    "\n",
    "            if email:\n",
    "                self.contact[name]['email'] = email\n",
    "            \n",
    "            print('COntact updated succesfully!')\n",
    "\n",
    "\n",
    "\n",
    "\n",
    "            #update the info : phone, email\n",
    "\n",
    "        else: print(\"you dont have such contact!\")\n",
    "\n",
    "    def delete(self,name):\n",
    "        if name not in self.contact:\n",
    "            print(\"You dont have this contact!\")\n",
    "        else: \n",
    "            del self.contact[name]\n",
    "            print(f'Contact {name} deleted!')\n",
    "\n",
    "            \n"
   ]
  },
  {
   "cell_type": "code",
   "execution_count": 27,
   "metadata": {},
   "outputs": [],
   "source": [
    "# d {name:nummber}\n",
    "    #make sure name does not exist\n",
    "    #add --> read/ get the associated value\n",
    "\n",
    "    \n",
    "    "
   ]
  },
  {
   "cell_type": "code",
   "execution_count": null,
   "metadata": {},
   "outputs": [],
   "source": []
  },
  {
   "cell_type": "code",
   "execution_count": 69,
   "metadata": {},
   "outputs": [],
   "source": [
    "book = Contactbook()"
   ]
  },
  {
   "cell_type": "code",
   "execution_count": 72,
   "metadata": {},
   "outputs": [],
   "source": [
    "book.write(\n",
    "    name=\"shirin\",\n",
    "    phone='4444444',\n",
    "    email=\"shirin@x.com\"\n",
    ")"
   ]
  },
  {
   "cell_type": "code",
   "execution_count": 79,
   "metadata": {},
   "outputs": [
    {
     "name": "stdout",
     "output_type": "stream",
     "text": [
      "name: None\n",
      "phone: 7766\n",
      "email: ali@x.com\n",
      "--------------------------------------------------\n"
     ]
    }
   ],
   "source": [
    "book.read()"
   ]
  },
  {
   "cell_type": "code",
   "execution_count": 66,
   "metadata": {},
   "outputs": [
    {
     "data": {
      "text/plain": [
       "{'shirin': {'phone': '43945843', 'email': 'yamani.shirin@ucalgary.ca'}}"
      ]
     },
     "execution_count": 66,
     "metadata": {},
     "output_type": "execute_result"
    }
   ],
   "source": [
    "{\n",
    "    'shirin':{\n",
    "        'phone':\"43945843\",\n",
    "        \"email\": \"yamani.shirin@ucalgary.ca\"\n",
    "    }\n",
    "}"
   ]
  },
  {
   "cell_type": "code",
   "execution_count": 74,
   "metadata": {},
   "outputs": [
    {
     "name": "stdout",
     "output_type": "stream",
     "text": [
      "Contact shirin deleted!\n"
     ]
    }
   ],
   "source": [
    "book.delete('shirin')"
   ]
  },
  {
   "cell_type": "code",
   "execution_count": 78,
   "metadata": {},
   "outputs": [
    {
     "name": "stdout",
     "output_type": "stream",
     "text": [
      "you dont have such contact!\n"
     ]
    }
   ],
   "source": [
    "book.update(name='ali', phone=\"7766\")"
   ]
  },
  {
   "cell_type": "code",
   "execution_count": 77,
   "metadata": {},
   "outputs": [
    {
     "name": "stdout",
     "output_type": "stream",
     "text": [
      "name: None\n",
      "phone: 7766\n",
      "email: ali@x.com\n",
      "--------------------------------------------------\n"
     ]
    }
   ],
   "source": [
    "book.read()"
   ]
  },
  {
   "cell_type": "code",
   "execution_count": 8,
   "metadata": {},
   "outputs": [
    {
     "name": "stdout",
     "output_type": "stream",
     "text": [
      "Welcome to phonebook app...\n",
      "1----> Add contact\n",
      "2 -----> delete contact\n",
      "3 -----> View Contact\n",
      "4 -------> Edit COntact\n",
      "5 for quit\n",
      "Welcome to phonebook app...\n",
      "1----> Add contact\n",
      "2 -----> delete contact\n",
      "3 -----> View Contact\n",
      "4 -------> Edit COntact\n",
      "5 for quit\n",
      "Welcome to phonebook app...\n",
      "1----> Add contact\n",
      "2 -----> delete contact\n",
      "3 -----> View Contact\n",
      "4 -------> Edit COntact\n",
      "5 for quit\n",
      "Welcome to phonebook app...\n",
      "1----> Add contact\n",
      "2 -----> delete contact\n",
      "3 -----> View Contact\n",
      "4 -------> Edit COntact\n",
      "5 for quit\n"
     ]
    }
   ],
   "source": [
    "book = Contactbook()\n",
    "while True:\n",
    "    print('Welcome to phonebook app...')\n",
    "    print('1----> Add contact')\n",
    "    print('2 -----> delete contact')\n",
    "    print('3 -----> View Contact')\n",
    "    print('4 -------> Edit COntact')\n",
    "    print('5 for quit')\n",
    "\n",
    "    user_choice = input('Enter your choice')\n",
    "   \n",
    "\n",
    "    if user_choice == \"5\":\n",
    "        break\n",
    "\n",
    "    elif user_choice == '1':\n",
    "        name = input('Enter name')\n",
    "        phone = input('Enter phone number')\n",
    "        email = input('Enter email')\n",
    "\n",
    "        book.write(name, phone, email)\n",
    "\n",
    "    elif user_choice =='2':\n",
    "        name = input('Enter name')\n",
    "        book.delete(name)\n",
    "\n",
    "    elif user_choice == '3':\n",
    "        book.read()\n",
    "        \n",
    "\n",
    "    elif user_choice == '4':\n",
    "        name = input('Enter name')\n",
    "        phone = input('Enter phone number')\n",
    "        email = input('Enter email')\n",
    "\n",
    "        book.update(name, phone, email)\n",
    "\n",
    "        "
   ]
  },
  {
   "cell_type": "code",
   "execution_count": null,
   "metadata": {},
   "outputs": [],
   "source": []
  }
 ],
 "metadata": {
  "kernelspec": {
   "display_name": "ali-ml",
   "language": "python",
   "name": "python3"
  },
  "language_info": {
   "codemirror_mode": {
    "name": "ipython",
    "version": 3
   },
   "file_extension": ".py",
   "mimetype": "text/x-python",
   "name": "python",
   "nbconvert_exporter": "python",
   "pygments_lexer": "ipython3",
   "version": "3.10.12"
  }
 },
 "nbformat": 4,
 "nbformat_minor": 2
}
