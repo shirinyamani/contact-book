{
 "cells": [
  {
   "cell_type": "code",
   "execution_count": 4,
   "metadata": {},
   "outputs": [],
   "source": [
    "import collections"
   ]
  },
  {
   "cell_type": "code",
   "execution_count": 1,
   "metadata": {},
   "outputs": [],
   "source": [
    "class COntactbook:\n",
    "    def __init__(self):\n",
    "        self.d = collections.defaultdict(list) #name:contact\n",
    "\n",
    "    def read(self):\n",
    "        return self.d\n",
    "\n",
    "    def write(self, name, phone_number):\n",
    "        return self.d[name].append(phone_number)\n",
    "\n",
    "\n",
    "    def update(self):\n",
    "        self.d.update()\n",
    "\n",
    "    def delete(self,name):\n",
    "        if name not in self.d:\n",
    "            print(\"You dont have this contact!\")\n",
    "        else:\n",
    "            to_be_deleted = self.d.pop(name)\n"
   ]
  },
  {
   "cell_type": "code",
   "execution_count": 22,
   "metadata": {},
   "outputs": [],
   "source": [
    "# d {name:nummber}\n",
    "    #make sure name does not exist\n",
    "    #add --> read/ get the associated value\n",
    "d = collections.defaultdict(list)\n",
    "def write(name, number):\n",
    "    q = d[name].append(number)\n",
    "    return q\n",
    "    \n",
    "    "
   ]
  },
  {
   "cell_type": "code",
   "execution_count": 24,
   "metadata": {},
   "outputs": [],
   "source": [
    "write('shirin', '11')"
   ]
  },
  {
   "cell_type": "code",
   "execution_count": null,
   "metadata": {},
   "outputs": [],
   "source": []
  }
 ],
 "metadata": {
  "kernelspec": {
   "display_name": "ali-ml",
   "language": "python",
   "name": "python3"
  },
  "language_info": {
   "codemirror_mode": {
    "name": "ipython",
    "version": 3
   },
   "file_extension": ".py",
   "mimetype": "text/x-python",
   "name": "python",
   "nbconvert_exporter": "python",
   "pygments_lexer": "ipython3",
   "version": "3.10.12"
  }
 },
 "nbformat": 4,
 "nbformat_minor": 2
}
